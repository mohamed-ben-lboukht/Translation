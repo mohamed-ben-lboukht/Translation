{
  "cells": [
    {
      "cell_type": "markdown",
      "metadata": {
        "id": "view-in-github",
        "colab_type": "text"
      },
      "source": [
        "<a href=\"https://colab.research.google.com/github/mohamed-ben-lboukht/Translation/blob/main/translationmachine.ipynb\" target=\"_parent\"><img src=\"https://colab.research.google.com/assets/colab-badge.svg\" alt=\"Open In Colab\"/></a>"
      ]
    },
    {
      "cell_type": "code",
      "execution_count": null,
      "metadata": {
        "id": "STWUNeyrVpGk"
      },
      "outputs": [],
      "source": [
        "import torch\n",
        "import torch.nn.functional as F\n",
        "import torch.nn as nn\n",
        "import numpy as np\n",
        "import pandas as pd\n",
        "import matplotlib.pyplot as plt\n",
        "import seaborn as sns\n",
        "from torch.nn.utils.rnn import pad_sequence\n",
        "from torch.utils.data import Dataset, DataLoader"
      ]
    },
    {
      "cell_type": "code",
      "execution_count": null,
      "metadata": {
        "id": "Ok_oPjRfTxxr"
      },
      "outputs": [],
      "source": [
        "import sentencepiece as spm\n",
        "import tqdm\n"
      ]
    },
    {
      "cell_type": "code",
      "execution_count": null,
      "metadata": {
        "colab": {
          "base_uri": "https://localhost:8080/"
        },
        "id": "7mSbmIhoWAMZ",
        "outputId": "32b6809d-ed20-4cd1-e8f6-fa8602fb9233"
      },
      "outputs": [
        {
          "output_type": "stream",
          "name": "stdout",
          "text": [
            "cuda\n"
          ]
        }
      ],
      "source": [
        "device = torch.device(\"cuda\" if torch.cuda.is_available() else \"cpu\")\n",
        "print(device)"
      ]
    },
    {
      "cell_type": "code",
      "execution_count": null,
      "metadata": {
        "id": "ocPQRaR-aQId"
      },
      "outputs": [],
      "source": [
        "data = pd.read_csv('Cleaned_Sentence_Pairs (1).csv')"
      ]
    },
    {
      "cell_type": "code",
      "execution_count": null,
      "metadata": {
        "id": "cu1OVPQxlK3N"
      },
      "outputs": [],
      "source": [
        "# data = data[len(data)//2:]"
      ]
    },
    {
      "cell_type": "code",
      "execution_count": null,
      "metadata": {
        "id": "oVIAnYS4SeT7"
      },
      "outputs": [],
      "source": [
        "with open(\"train.txt\", \"w\", encoding=\"utf-8\") as f:\n",
        "    for _, row in data.iterrows():\n",
        "        # Convert to string before stripping to handle potential non-string values like NaN\n",
        "        f.write(str(row[\"English\"]).strip() + \"\\n\")\n",
        "        f.write(str(row[\"Turkish\"]).strip() + \"\\n\")"
      ]
    },
    {
      "cell_type": "code",
      "execution_count": null,
      "metadata": {
        "id": "YJgBFkArS3X8"
      },
      "outputs": [],
      "source": [
        "spm.SentencePieceTrainer.train(\n",
        "    input='train.txt',\n",
        "    model_prefix='tokenizer',         # outputs tokenizer.model, tokenizer.vocab\n",
        "    vocab_size=16000,                  # or 16000, depending on data size\n",
        "    character_coverage=1.0,           # full Unicode range (for Turkish characters)\n",
        "    model_type='bpe'                  # Byte-Pair Encoding (best for this case)\n",
        ")\n"
      ]
    },
    {
      "cell_type": "code",
      "execution_count": null,
      "metadata": {
        "colab": {
          "base_uri": "https://localhost:8080/"
        },
        "id": "EE_s6xk2T8d9",
        "outputId": "81b724c2-6f13-49ab-c2d6-328335eb51b1"
      },
      "outputs": [
        {
          "output_type": "stream",
          "name": "stdout",
          "text": [
            "Token IDs: [29, 1010, 5854, 15812]\n",
            "Decoded: I love cats.\n"
          ]
        }
      ],
      "source": [
        "sp = spm.SentencePieceProcessor()\n",
        "sp.load(\"tokenizer.model\")\n",
        "\n",
        "# Example\n",
        "text = \"I love cats.\"\n",
        "ids = sp.encode(text, out_type=int)\n",
        "print(\"Token IDs:\", ids)\n",
        "print(\"Decoded:\", sp.decode(ids))\n"
      ]
    },
    {
      "cell_type": "code",
      "execution_count": null,
      "metadata": {
        "colab": {
          "base_uri": "https://localhost:8080/"
        },
        "id": "zHb53uc-1Xxg",
        "outputId": "2b61bd0d-e9dc-4267-c037-3ee120f9e465"
      },
      "outputs": [
        {
          "output_type": "execute_result",
          "data": {
            "text/plain": [
              "16000"
            ]
          },
          "metadata": {},
          "execution_count": 30
        }
      ],
      "source": [
        "len(sp)"
      ]
    },
    {
      "cell_type": "code",
      "execution_count": null,
      "metadata": {
        "id": "fjJpl6apUAfm"
      },
      "outputs": [],
      "source": [
        "src_encoded = [sp.encode(str(row[\"English\"]), out_type=int) for _, row in data.iterrows()]\n",
        "tgt_encoded = [sp.encode(str(row[\"Turkish\"]), out_type=int) for _, row in data.iterrows()]\n",
        "\n",
        "vocab_size = len(sp)  # very important for model"
      ]
    },
    {
      "cell_type": "code",
      "execution_count": null,
      "metadata": {
        "id": "77L1UztXUoMc"
      },
      "outputs": [],
      "source": [
        "src_encoded = [torch.tensor(sp.encode(str(row[\"English\"]), out_type=int)) for _, row in data.iterrows()]\n",
        "tgt_encoded = [torch.tensor([1] + sp.encode(str(row[\"Turkish\"]), out_type=int) + [2]) for _, row in data.iterrows()]  # BOS = 1, EOS = 2"
      ]
    },
    {
      "cell_type": "code",
      "execution_count": null,
      "metadata": {
        "id": "XtjOEYvZVSSz"
      },
      "outputs": [],
      "source": [
        "src = pad_sequence(src_encoded, batch_first=True, padding_value=0)\n",
        "tgt = pad_sequence(tgt_encoded, batch_first=True, padding_value=0)"
      ]
    },
    {
      "cell_type": "code",
      "source": [
        "src = torch.load(\"src.pt\")\n",
        "tgt = torch.load(\"tgt.pt\")"
      ],
      "metadata": {
        "id": "vWYmzmtJsdf9"
      },
      "execution_count": null,
      "outputs": []
    },
    {
      "cell_type": "code",
      "source": [
        "src = src.to(device)\n",
        "tgt = tgt.to(device)"
      ],
      "metadata": {
        "id": "aqNlpSpss13D"
      },
      "execution_count": null,
      "outputs": []
    },
    {
      "cell_type": "code",
      "execution_count": null,
      "metadata": {
        "colab": {
          "base_uri": "https://localhost:8080/"
        },
        "id": "DV0bsHV0gF_O",
        "outputId": "9c79294c-4508-49b8-ebe2-e8e84b7a739e"
      },
      "outputs": [
        {
          "output_type": "execute_result",
          "data": {
            "text/plain": [
              "146"
            ]
          },
          "metadata": {},
          "execution_count": 33
        }
      ],
      "source": [
        "tgt.shape[1]"
      ]
    },
    {
      "cell_type": "code",
      "execution_count": null,
      "metadata": {
        "colab": {
          "base_uri": "https://localhost:8080/"
        },
        "id": "qu73zE-_lTQF",
        "outputId": "0d68812d-9559-45c8-d921-2e0565267517"
      },
      "outputs": [
        {
          "output_type": "execute_result",
          "data": {
            "text/plain": [
              "180"
            ]
          },
          "metadata": {},
          "execution_count": 34
        }
      ],
      "source": [
        "src.shape[1]"
      ]
    },
    {
      "cell_type": "code",
      "execution_count": null,
      "metadata": {
        "id": "luW0qCg2fF0X"
      },
      "outputs": [],
      "source": [
        "max_seq_len = (max(src.shape[1],tgt.shape[1]))"
      ]
    },
    {
      "cell_type": "code",
      "execution_count": null,
      "metadata": {
        "colab": {
          "base_uri": "https://localhost:8080/"
        },
        "id": "zEaHxRs6Xdf1",
        "outputId": "d676385b-894b-46ea-ffbd-9b6276996b14"
      },
      "outputs": [
        {
          "output_type": "execute_result",
          "data": {
            "text/plain": [
              "torch.Size([208514, 180])"
            ]
          },
          "metadata": {},
          "execution_count": 12
        }
      ],
      "source": [
        "src.shape"
      ]
    },
    {
      "cell_type": "code",
      "execution_count": null,
      "metadata": {
        "id": "j0_53q3jlSTA"
      },
      "outputs": [],
      "source": [
        "class Config():\n",
        "    # Global hyperparameters\n",
        "    d_model = 128\n",
        "    n_layer = 4\n",
        "    num_heads = 4\n",
        "    head_size = d_model // num_heads\n",
        "    dropout = 0.1\n",
        "    vocab_size = 16000\n",
        "    max_seq_len = 512\n",
        "    batch_size = 32\n",
        "    warmup_steps = 4000\n"
      ]
    },
    {
      "cell_type": "code",
      "execution_count": null,
      "metadata": {
        "id": "FLDuoK3r2NRB"
      },
      "outputs": [],
      "source": [
        "class TranslationDataset(Dataset):\n",
        "    def __init__(self, src, tgt):\n",
        "        self.src = src\n",
        "        self.tgt = tgt\n",
        "\n",
        "    def __len__(self):\n",
        "        return len(self.src)\n",
        "\n",
        "    def __getitem__(self, idx):\n",
        "        return self.src[idx], self.tgt[idx]\n",
        "\n",
        "\n"
      ]
    },
    {
      "cell_type": "code",
      "execution_count": null,
      "metadata": {
        "id": "OielXC8uaQ05"
      },
      "outputs": [],
      "source": [
        "class Head(nn.Module):\n",
        "\n",
        "    def __init__(self,config):\n",
        "        super().__init__()\n",
        "        self.key = nn.Linear(config.d_model, config.head_size, bias=False)\n",
        "        self.query = nn.Linear(config.d_model, config.head_size, bias=False)\n",
        "        self.value = nn.Linear(config.d_model, config.head_size, bias=False)\n",
        "\n",
        "        self.dropout = nn.Dropout(config.dropout)\n",
        "\n",
        "    def forward(self, query,key,value):\n",
        "        B,T,C = value.shape\n",
        "        k = self.key(key)   # (B,T,C)\n",
        "        q = self.query(query) # (B,T,C)\n",
        "        wei = q @ k.transpose(-2,-1) * C**-0.5 # (B, T, C) @ (B, C, T) -> (B, T, T)\n",
        "        wei = F.softmax(wei, dim=-1) # (B, T, T)\n",
        "        wei = self.dropout(wei)\n",
        "        v = self.value(value) # (B,T,C)\n",
        "        out = wei @ v # (B, T, T) @ (B, T, C) -> (B, T, C)\n",
        "        return out\n",
        "\n"
      ]
    },
    {
      "cell_type": "code",
      "execution_count": null,
      "metadata": {
        "id": "94cKR3cDaukj"
      },
      "outputs": [],
      "source": [
        "class MultiHeadAttention(nn.Module):\n",
        "\n",
        "    def __init__(self,config):\n",
        "        super().__init__()\n",
        "        self.heads = nn.ModuleList([ Head(config) for _ in range(config.num_heads)])\n",
        "        # Input dimension should be num_heads * head_size, output dimension should be d_model\n",
        "        self.proj = nn.Linear(config.num_heads * config.head_size, config.d_model)\n",
        "        self.dropout = nn.Dropout(config.dropout)\n",
        "\n",
        "    def forward(self,query,key,value):\n",
        "        # out shape will be (B, T, num_heads * head_size)\n",
        "        out = torch.cat([h(query,key,value) for h in self.heads], dim=-1)\n",
        "        # Project to d_model dimension\n",
        "        out = self.dropout(self.proj(out))\n",
        "        return out"
      ]
    },
    {
      "cell_type": "code",
      "execution_count": null,
      "metadata": {
        "id": "1Rp-z6vvawCQ"
      },
      "outputs": [],
      "source": [
        "class FeedFoward(nn.Module):\n",
        "    def __init__(self,config):\n",
        "        super().__init__()\n",
        "        self.net = nn.Sequential(\n",
        "            nn.Linear(config.d_model, 4 * config.d_model),\n",
        "            nn.ReLU(),\n",
        "            nn.Linear(4 * config.d_model, config.d_model),\n",
        "            nn.Dropout(config.dropout),\n",
        "        )\n",
        "\n",
        "    def forward(self, x):\n",
        "        return self.net(x)\n"
      ]
    },
    {
      "cell_type": "code",
      "execution_count": null,
      "metadata": {
        "id": "2RNVGcOSdVCz"
      },
      "outputs": [],
      "source": [
        "class Block(nn.Module):\n",
        "    \"\"\" Transformer block: communication followed by computation \"\"\"\n",
        "\n",
        "    def __init__(self,config):\n",
        "        # n_embd: embedding dimension, n_head: the number of heads we'd like\n",
        "        super().__init__()\n",
        "        self.sa = MultiHeadAttention(config)\n",
        "        self.ffwd = FeedFoward(config)\n",
        "        self.ln1 = nn.LayerNorm(config.d_model)\n",
        "        self.ln2 = nn.LayerNorm(config.d_model)\n",
        "\n",
        "    def forward(self, query,key,value):\n",
        "        x = query\n",
        "        x = x + self.ln1(self.sa(query,key,value))\n",
        "        x = x + self.ln2(self.ffwd(x))\n",
        "        return x"
      ]
    },
    {
      "cell_type": "code",
      "source": [
        "class SinusoidalPositionalEncoding(nn.Module):\n",
        "    def __init__(self, dim, max_len=5000):\n",
        "        super().__init__()\n",
        "        pe = torch.zeros(max_len, dim)\n",
        "        position = torch.arange(0, max_len).unsqueeze(1)\n",
        "        # Convert 10000.0 to a tensor\n",
        "        div_term = torch.exp(torch.arange(0, dim, 2) * (-torch.log(torch.tensor(10000.0)) / dim))\n",
        "\n",
        "        pe[:, 0::2] = torch.sin(position * div_term)   # Even indices\n",
        "        pe[:, 1::2] = torch.cos(position * div_term)   # Odd indices\n",
        "        pe = pe.unsqueeze(0)  # (1, max_len, dim)\n",
        "        self.register_buffer('pe', pe)  # ensures it's on correct device and not updated during training\n",
        "\n",
        "    def forward(self, x):\n",
        "        \"\"\"\n",
        "        x: Tensor of shape (batch_size, seq_len, dim)\n",
        "        \"\"\"\n",
        "        seq_len = x.size(1)\n",
        "        return self.pe[:, :seq_len]"
      ],
      "metadata": {
        "id": "ccpLu5i9tRMt"
      },
      "execution_count": null,
      "outputs": []
    },
    {
      "cell_type": "code",
      "execution_count": null,
      "metadata": {
        "id": "b-SVMeHwbido"
      },
      "outputs": [],
      "source": [
        "class encoder(nn.Module):\n",
        "    def __init__(self,config):\n",
        "        super().__init__()\n",
        "        self.token_embedding_table = nn.Embedding(config.vocab_size, config.d_model, padding_idx=0)\n",
        "        self.position_embedding_table = SinusoidalPositionalEncoding(config.d_model, config.max_seq_len)\n",
        "        self.blocks = nn.ModuleList([Block(config) for _ in range(config.n_layer)]) # Use ModuleList instead of Sequential\n",
        "        self.ln_f = nn.LayerNorm(config.d_model)\n",
        "\n",
        "    def forward(self, idx):\n",
        "        B, T = idx.shape\n",
        "        tok_emb = self.token_embedding_table(idx) # (B, T, d_model)\n",
        "        pos_emb = self.position_embedding_table(tok_emb) # Get positional embeddings based on token embedding shape\n",
        "        x = tok_emb + pos_emb\n",
        "\n",
        "        # Manually pass query, key, value through each block\n",
        "        for block in self.blocks:\n",
        "            x = block(x, x, x) # Self-attention in encoder\n",
        "\n",
        "        x = self.ln_f(x)\n",
        "        return x"
      ]
    },
    {
      "cell_type": "code",
      "execution_count": null,
      "metadata": {
        "id": "IeHSFhsYdzY2"
      },
      "outputs": [],
      "source": [
        "class decoder(nn.Module):\n",
        "    def __init__(self,config):\n",
        "        super().__init__()\n",
        "        self.token_embedding_table = nn.Embedding(config.vocab_size, config.d_model, padding_idx=0)\n",
        "        self.position_embedding_table = SinusoidalPositionalEncoding(config.d_model, config.max_seq_len)\n",
        "        self.blocks = nn.ModuleList([Block(config) for _ in range(config.n_layer)]) # Use ModuleList instead of Sequential\n",
        "        self.ln_f = nn.LayerNorm(config.d_model)\n",
        "        self.lm_head = nn.Linear(config.d_model, config.vocab_size)\n",
        "\n",
        "    def forward(self, idx, encoder_output=None):\n",
        "        B, T = idx.shape\n",
        "        tok_emb = self.token_embedding_table(idx) # (B, T, d_model)\n",
        "        pos_emb = self.position_embedding_table(tok_emb) # Get positional embeddings based on token embedding shape\n",
        "        x = tok_emb + pos_emb\n",
        "\n",
        "        # Manually pass query, key, value through each block\n",
        "        if encoder_output is not None:\n",
        "            for block in self.blocks:\n",
        "                # Assuming first attention is self-attention, second is cross-attention if encoder_output is provided\n",
        "                # This structure of Block might need refinement based on standard Transformer architecture\n",
        "                # For simplicity, passing appropriate K, V here based on typical decoder block\n",
        "                 x = block(x, encoder_output, encoder_output) # Cross-attention in decoder\n",
        "\n",
        "        else:\n",
        "            for block in self.blocks:\n",
        "                 x = block(x, x, x) # Self-attention in decoder (e.g., if no encoder output)\n",
        "\n",
        "\n",
        "        x = self.ln_f(x)\n",
        "        logits = self.lm_head(x)\n",
        "        return logits"
      ]
    },
    {
      "cell_type": "code",
      "execution_count": null,
      "metadata": {
        "id": "jeKloaBvmnto"
      },
      "outputs": [],
      "source": [
        "class Transformer(nn.Module):\n",
        "    def __init__(self,config):\n",
        "        super().__init__()\n",
        "        self.encoder = encoder(config)\n",
        "        self.decoder = decoder(config)\n",
        "        self.block_size = config.max_seq_len # Added block_size attribute from config\n",
        "\n",
        "    def forward(self, src, tgt):\n",
        "        enc_output = self.encoder(src)\n",
        "        logits = self.decoder(tgt, enc_output)  # (B, tgt_len, vocab_size)\n",
        "        return logits\n",
        "\n",
        "    def translate(self, src, max_new_tokens=50, start_token_id=1):\n",
        "\n",
        "      B = src.size(0)\n",
        "      tgt = torch.full((B, 1), start_token_id, dtype=torch.long).to(src.device)  # initial token (e.g. <BOS>)\n",
        "\n",
        "      # Encode once\n",
        "      enc_output = self.encoder(src)\n",
        "\n",
        "      for _ in range(max_new_tokens):\n",
        "          # Ensure tgt_cond is on the same device as enc_output and get positional embeddings\n",
        "          tgt_cond = tgt[:, -self.block_size:].to(src.device)  # (B, T) cropped decoder input\n",
        "          # Correctly pass tgt_cond to decoder for positional embedding calculation\n",
        "          dec_output = self.decoder(tgt_cond, enc_output)\n",
        "          logits = dec_output[:, -1, :]         # take last token only: (B, vocab_size)\n",
        "          probs = F.softmax(logits, dim=-1)     # (B, vocab_size)\n",
        "          idx_next = torch.multinomial(probs, num_samples=1)  # (B, 1)\n",
        "          tgt = torch.cat((tgt, idx_next.to(tgt.device)), dim=1)  # append next token\n",
        "\n",
        "      return tgt[:, 1:]  # remove start_token"
      ]
    },
    {
      "cell_type": "code",
      "execution_count": null,
      "metadata": {
        "id": "M-eBsXCJ_H9h"
      },
      "outputs": [],
      "source": [
        "model = Transformer(Config())"
      ]
    },
    {
      "cell_type": "code",
      "execution_count": null,
      "metadata": {
        "id": "d5MlGtN0XVl1"
      },
      "outputs": [],
      "source": [
        "model = model.to(device)"
      ]
    },
    {
      "cell_type": "code",
      "execution_count": null,
      "metadata": {
        "id": "McOQMoUd3MR9"
      },
      "outputs": [],
      "source": [
        "model = torch.compile(model)"
      ]
    },
    {
      "cell_type": "code",
      "execution_count": null,
      "metadata": {
        "id": "8xX-x57G_GgT"
      },
      "outputs": [],
      "source": [
        "loss_fn = nn.CrossEntropyLoss(ignore_index=0)"
      ]
    },
    {
      "cell_type": "code",
      "execution_count": null,
      "metadata": {
        "id": "IJEZeiCZSEK4"
      },
      "outputs": [],
      "source": [
        "from sklearn.model_selection import train_test_split"
      ]
    },
    {
      "cell_type": "code",
      "execution_count": null,
      "metadata": {
        "id": "NmV8XWvFSHok"
      },
      "outputs": [],
      "source": [
        "test_src , testx , test_tgt , testy = train_test_split(src,tgt,test_size=0.2,random_state=42)"
      ]
    },
    {
      "cell_type": "code",
      "execution_count": null,
      "metadata": {
        "colab": {
          "base_uri": "https://localhost:8080/"
        },
        "id": "hBRJeIO_0mCv",
        "outputId": "90c637f4-84f0-49dc-aeb0-38b4e5907e31"
      },
      "outputs": [
        {
          "output_type": "execute_result",
          "data": {
            "text/plain": [
              "device(type='cuda')"
            ]
          },
          "metadata": {},
          "execution_count": 36
        }
      ],
      "source": [
        "device"
      ]
    },
    {
      "cell_type": "code",
      "execution_count": null,
      "metadata": {
        "colab": {
          "base_uri": "https://localhost:8080/"
        },
        "id": "r7SrbJVQr2Zx",
        "outputId": "dcdeca55-891e-4c5e-b57a-b1c964387a5f"
      },
      "outputs": [
        {
          "output_type": "execute_result",
          "data": {
            "text/plain": [
              "torch.Size([166811, 180])"
            ]
          },
          "metadata": {},
          "execution_count": 37
        }
      ],
      "source": [
        "test_src.shape"
      ]
    },
    {
      "cell_type": "code",
      "execution_count": null,
      "metadata": {
        "id": "XJ10uU8QA0pF"
      },
      "outputs": [],
      "source": [
        "dataset = TranslationDataset(test_src, test_tgt)"
      ]
    },
    {
      "cell_type": "code",
      "execution_count": null,
      "metadata": {
        "id": "LiIWZRxBAw6V"
      },
      "outputs": [],
      "source": [
        "train_loader = DataLoader(dataset, batch_size=Config().batch_size, shuffle=True)"
      ]
    },
    {
      "cell_type": "code",
      "execution_count": null,
      "metadata": {
        "id": "m3y4XNpus6ZF"
      },
      "outputs": [],
      "source": [
        "torch.set_float32_matmul_precision('high')"
      ]
    },
    {
      "cell_type": "code",
      "execution_count": null,
      "metadata": {
        "id": "SmnfCEcLE5wf"
      },
      "outputs": [],
      "source": [
        "from torch.optim.lr_scheduler import LambdaLR"
      ]
    },
    {
      "cell_type": "code",
      "execution_count": null,
      "metadata": {
        "id": "a7QIY9cEEwL7"
      },
      "outputs": [],
      "source": [
        "optimizer = torch.optim.AdamW(model.parameters(), lr=1.0,betas=(0.9, 0.98), eps=1e-9)\n",
        "# Noam learning rate schedule\n",
        "def get_transformer_lr_lambda(warmup_steps, d_model):\n",
        "    def lr_lambda(step):\n",
        "        step = max(1, step)\n",
        "        return (d_model ** -0.5) * min(step ** -0.5, step * (warmup_steps ** -1.5))\n",
        "    return lr_lambda\n",
        "\n",
        "scheduler = LambdaLR(optimizer, lr_lambda=get_transformer_lr_lambda(Config().warmup_steps, Config().d_model))"
      ]
    },
    {
      "cell_type": "code",
      "execution_count": null,
      "metadata": {
        "colab": {
          "base_uri": "https://localhost:8080/"
        },
        "id": "ERh1xAbi7lrc",
        "outputId": "296505e2-5787-44ca-f246-163dcb73c696"
      },
      "outputs": [
        {
          "output_type": "stream",
          "name": "stderr",
          "text": [
            "Epoch 1/5:  18%|█▊        | 945/5213 [01:06<04:47, 14.83it/s, loss=1.61, lr=0.000244]"
          ]
        }
      ],
      "source": [
        "# Training loop\n",
        "num_epochs = 5\n",
        "for epoch in range(num_epochs):\n",
        "    model.train()\n",
        "    total_loss = 0\n",
        "    loop = tqdm.tqdm(train_loader, desc=f\"Epoch {epoch+1}/{num_epochs}\")\n",
        "\n",
        "    for src1, tgt1 in loop:\n",
        "        src1, tgt1 = src1.to(device), tgt1.to(device)\n",
        "        tgt_input = tgt1[:, :-1]\n",
        "        tgt_target = tgt1[:, 1:]\n",
        "\n",
        "        output = model(src1, tgt_input)  # (B, T, vocab_size)\n",
        "        output = output.view(-1, Config().vocab_size)\n",
        "        tgt_target = tgt_target.reshape(-1)\n",
        "\n",
        "        loss = loss_fn(output, tgt_target)\n",
        "\n",
        "        optimizer.zero_grad()\n",
        "        loss.backward()\n",
        "        torch.nn.utils.clip_grad_norm_(model.parameters(), 1.0)\n",
        "        optimizer.step()\n",
        "        scheduler.step()  # <-- update learning rate every step\n",
        "\n",
        "        total_loss += loss.item()\n",
        "        loop.set_postfix(loss=loss.item(), lr=scheduler.get_last_lr()[0])\n",
        "\n",
        "    avg_loss = total_loss / len(train_loader)\n",
        "    print(f\"Epoch {epoch+1} average loss: {avg_loss:.4f}\")"
      ]
    },
    {
      "cell_type": "code",
      "execution_count": null,
      "metadata": {
        "id": "vWV3rU1SRnW5"
      },
      "outputs": [],
      "source": [
        "torch.save(model.state_dict(), \"tre.pth\")"
      ]
    },
    {
      "cell_type": "code",
      "source": [
        "torch.save(model,\"model.pt\")"
      ],
      "metadata": {
        "id": "84t1CRSncrcl"
      },
      "execution_count": null,
      "outputs": []
    },
    {
      "cell_type": "code",
      "execution_count": null,
      "metadata": {
        "id": "8McwgchRPzIu"
      },
      "outputs": [],
      "source": [
        "def top_k_filtering(logits, k=10):\n",
        "    \"\"\"\n",
        "    Keep only top-k logits (set rest to -inf for zero probability).\n",
        "    \"\"\"\n",
        "    values, indices = torch.topk(logits, k)\n",
        "    filtered_logits = torch.full_like(logits, float('-inf'))\n",
        "    filtered_logits.scatter_(1, indices, values)\n",
        "    return filtered_logits\n",
        "\n",
        "def translate_sentence(\n",
        "    sentence, model, tokenizer=sp, max_len=50, bos=1, eos=2, k=10, temperature=1.0\n",
        "):\n",
        "    model.eval()\n",
        "\n",
        "    # Encode input sentence\n",
        "    src_ids = tokenizer.encode(sentence, out_type=int)\n",
        "    src_tensor = torch.tensor(src_ids, dtype=torch.long).unsqueeze(0).to(device)\n",
        "\n",
        "    # Start decoder with BOS token\n",
        "    tgt_ids = torch.tensor([[bos]], dtype=torch.long).to(device)\n",
        "\n",
        "    for _ in range(max_len):\n",
        "        with torch.no_grad():\n",
        "            output = model(src_tensor, tgt_ids)            # (1, T, vocab_size)\n",
        "            logits = output[:, -1, :] / temperature        # last token only, scale\n",
        "\n",
        "            filtered_logits = top_k_filtering(logits, k=k) # apply top-k\n",
        "            probs = torch.softmax(filtered_logits, dim=-1)\n",
        "            next_token = torch.multinomial(probs, num_samples=1)\n",
        "\n",
        "        tgt_ids = torch.cat([tgt_ids, next_token], dim=1)\n",
        "\n",
        "        if next_token.item() == eos:\n",
        "            break\n",
        "\n",
        "    # Decode output, skip BOS and EOS\n",
        "    output_ids = tgt_ids.squeeze(0).tolist()\n",
        "    decoded = tokenizer.decode(output_ids[1:-1])\n",
        "\n",
        "    return decoded.strip()\n"
      ]
    },
    {
      "cell_type": "code",
      "execution_count": null,
      "metadata": {
        "colab": {
          "base_uri": "https://localhost:8080/"
        },
        "id": "mR363hIqRV72",
        "outputId": "0821dfab-459b-4db5-afc6-aa6cc064ce9a"
      },
      "outputs": [
        {
          "output_type": "stream",
          "name": "stdout",
          "text": [
            "EN: Hello, how are you?\n",
            "→  Merhaba. Bugün de?\n",
            "------------------------------\n",
            "EN: Where is the airport?\n",
            "→  Havaalanı çalışır.\n",
            "------------------------------\n",
            "EN: I love cats and dogs.\n",
            "→  Büyükannem yalılar köpeklerden vazgeç.\n",
            "------------------------------\n",
            "EN: The weather is nice today.\n",
            "→  Hava bugün Bugün hava bugün hava kadar soğuk hav bugün Bugün hava kadar soğuk.\n",
            "------------------------------\n",
            "EN: Can you help me please?\n",
            "→  Bana yardım eder misin?\n",
            "------------------------------\n"
          ]
        }
      ],
      "source": [
        "# torch.manual_seed(12)\n",
        "examples = [\n",
        "    \"Hello, how are you?\",\n",
        "    \"Where is the airport?\",\n",
        "    \"I love cats and dogs.\",\n",
        "    \"The weather is nice today.\",\n",
        "    \"Can you help me please?\"\n",
        "]\n",
        "\n",
        "for en in examples:\n",
        "    tr = translate_sentence(en, model, k=10,temperature=0.7)\n",
        "    print(f\"EN: {en}\")\n",
        "    print(f\"→  {tr}\")\n",
        "    print(\"-\" * 30)\n"
      ]
    }
  ],
  "metadata": {
    "accelerator": "GPU",
    "colab": {
      "gpuType": "T4",
      "provenance": [],
      "include_colab_link": true
    },
    "kernelspec": {
      "display_name": "Python 3",
      "name": "python3"
    },
    "language_info": {
      "name": "python"
    }
  },
  "nbformat": 4,
  "nbformat_minor": 0
}
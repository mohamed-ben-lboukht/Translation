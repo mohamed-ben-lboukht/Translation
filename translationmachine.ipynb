{
  "cells": [
    {
      "cell_type": "markdown",
      "metadata": {
        "id": "view-in-github",
        "colab_type": "text"
      },
      "source": [
        "<a href=\"https://colab.research.google.com/github/mohamed-ben-lboukht/Translation/blob/main/translationmachine.ipynb\" target=\"_parent\"><img src=\"https://colab.research.google.com/assets/colab-badge.svg\" alt=\"Open In Colab\"/></a>"
      ]
    },
    {
      "cell_type": "code",
      "execution_count": 1,
      "metadata": {
        "id": "STWUNeyrVpGk"
      },
      "outputs": [],
      "source": [
        "import torch\n",
        "import torch.nn.functional as F\n",
        "import torch.nn as nn\n",
        "import numpy as np\n",
        "import pandas as pd\n",
        "import matplotlib.pyplot as plt\n",
        "from torch.nn.utils.rnn import pad_sequence\n",
        "from torch.utils.data import Dataset, DataLoader"
      ]
    },
    {
      "cell_type": "code",
      "execution_count": null,
      "metadata": {
        "id": "Vu9FvAhLK4M6",
        "outputId": "95ee7fe1-15b0-428d-f742-bc48093e4053"
      },
      "outputs": [
        {
          "name": "stdout",
          "output_type": "stream",
          "text": [
            "Defaulting to user installation because normal site-packages is not writeable\n",
            "Requirement already satisfied: sentencepiece in ./.local/lib/python3.10/site-packages (0.2.1)\n",
            "Collecting tqdm\n",
            "  Downloading tqdm-4.67.1-py3-none-any.whl (78 kB)\n",
            "\u001b[2K     \u001b[90m━━━━━━━━━━━━━━━━━━━━━━━━━━━━━━━━━━━━━━━━\u001b[0m \u001b[32m78.5/78.5 KB\u001b[0m \u001b[31m4.4 MB/s\u001b[0m eta \u001b[36m0:00:00\u001b[0m\n",
            "\u001b[?25hInstalling collected packages: tqdm\n",
            "Successfully installed tqdm-4.67.1\n"
          ]
        }
      ],
      "source": [
        "!pip install sentencepiece tqdm"
      ]
    },
    {
      "cell_type": "code",
      "execution_count": 2,
      "metadata": {
        "id": "Ok_oPjRfTxxr"
      },
      "outputs": [],
      "source": [
        "import sentencepiece as spm\n",
        "import tqdm\n"
      ]
    },
    {
      "cell_type": "code",
      "execution_count": null,
      "metadata": {
        "id": "lk8pev1iK4M7",
        "outputId": "0813c94e-5e61-4e1e-b83e-de3c8ba39f1f"
      },
      "outputs": [
        {
          "name": "stdout",
          "output_type": "stream",
          "text": [
            "Defaulting to user installation because normal site-packages is not writeable\n",
            "Collecting tqdm\n",
            "  Downloading tqdm-4.67.1-py3-none-any.whl (78 kB)\n",
            "\u001b[2K     \u001b[90m━━━━━━━━━━━━━━━━━━━━━━━━━━━━━━━━━━━━━━━━\u001b[0m \u001b[32m78.5/78.5 KB\u001b[0m \u001b[31m2.8 MB/s\u001b[0m eta \u001b[36m0:00:00\u001b[0m\n",
            "\u001b[?25hInstalling collected packages: tqdm\n",
            "Successfully installed tqdm-4.67.1\n"
          ]
        }
      ],
      "source": [
        "!pip install tqdm"
      ]
    },
    {
      "cell_type": "code",
      "execution_count": 3,
      "metadata": {
        "colab": {
          "base_uri": "https://localhost:8080/"
        },
        "id": "7mSbmIhoWAMZ",
        "outputId": "43aa0a85-cddb-4dd8-9a7e-10a006efb11b"
      },
      "outputs": [
        {
          "output_type": "stream",
          "name": "stdout",
          "text": [
            "cuda\n"
          ]
        }
      ],
      "source": [
        "device = torch.device(\"cuda\" if torch.cuda.is_available() else \"cpu\")\n",
        "print(device)"
      ]
    },
    {
      "cell_type": "code",
      "execution_count": 4,
      "metadata": {
        "id": "ocPQRaR-aQId"
      },
      "outputs": [],
      "source": [
        "data = pd.read_csv('Cleaned_Sentence_Pairs (1).csv')"
      ]
    },
    {
      "cell_type": "code",
      "execution_count": 58,
      "metadata": {
        "id": "cu1OVPQxlK3N"
      },
      "outputs": [],
      "source": [
        "data = data[int(len(data)*0.8):]"
      ]
    },
    {
      "cell_type": "code",
      "execution_count": null,
      "metadata": {
        "id": "oVIAnYS4SeT7"
      },
      "outputs": [],
      "source": [
        "with open(\"train.txt\", \"w\", encoding=\"utf-8\") as f:\n",
        "    for _, row in data.iterrows():\n",
        "        # Convert to string before stripping to handle potential non-string values like NaN\n",
        "        f.write(str(row[\"English\"]).strip() + \"\\n\")\n",
        "        f.write(str(row[\"Turkish\"]).strip() + \"\\n\")"
      ]
    },
    {
      "cell_type": "code",
      "execution_count": null,
      "metadata": {
        "id": "YJgBFkArS3X8"
      },
      "outputs": [],
      "source": [
        "spm.SentencePieceTrainer.train(\n",
        "    input='train.txt',\n",
        "    model_prefix='tokenizer',         # outputs tokenizer.model, tokenizer.vocab\n",
        "    vocab_size=16000,                  # or 16000, depending on data size\n",
        "    character_coverage=1.0,           # full Unicode range (for Turkish characters)\n",
        "    model_type='bpe'                  # Byte-Pair Encoding (best for this case)\n",
        ")\n"
      ]
    },
    {
      "cell_type": "code",
      "execution_count": 5,
      "metadata": {
        "colab": {
          "base_uri": "https://localhost:8080/"
        },
        "id": "EE_s6xk2T8d9",
        "outputId": "60b0467f-3807-4b02-9e9b-8b9d7507be40"
      },
      "outputs": [
        {
          "output_type": "stream",
          "name": "stdout",
          "text": [
            "Token IDs: [29, 1010, 5479, 15807]\n",
            "Decoded: I love cats.\n"
          ]
        }
      ],
      "source": [
        "sp = spm.SentencePieceProcessor()\n",
        "sp.load(\"tokenizer.model\")\n",
        "\n",
        "# Example\n",
        "text = \"I love cats.\"\n",
        "ids = sp.encode(text, out_type=int)\n",
        "print(\"Token IDs:\", ids)\n",
        "print(\"Decoded:\", sp.decode(ids))\n"
      ]
    },
    {
      "cell_type": "code",
      "execution_count": 6,
      "metadata": {
        "colab": {
          "base_uri": "https://localhost:8080/"
        },
        "id": "zHb53uc-1Xxg",
        "outputId": "de86b04b-9661-4dac-d950-04cb12a13a55"
      },
      "outputs": [
        {
          "output_type": "execute_result",
          "data": {
            "text/plain": [
              "16000"
            ]
          },
          "metadata": {},
          "execution_count": 6
        }
      ],
      "source": [
        "len(sp)"
      ]
    },
    {
      "cell_type": "code",
      "execution_count": 59,
      "metadata": {
        "id": "fjJpl6apUAfm"
      },
      "outputs": [],
      "source": [
        "src_encoded = [sp.encode(str(row[\"English\"]), out_type=int) for _, row in data.iterrows()]\n",
        "tgt_encoded = [sp.encode(str(row[\"Turkish\"]), out_type=int) for _, row in data.iterrows()]\n",
        "\n",
        "vocab_size = len(sp)  # very important for model"
      ]
    },
    {
      "cell_type": "code",
      "execution_count": 60,
      "metadata": {
        "id": "77L1UztXUoMc"
      },
      "outputs": [],
      "source": [
        "src_encoded = [torch.tensor(sp.encode(str(row[\"English\"]), out_type=int)) for _, row in data.iterrows()]\n",
        "tgt_encoded = [torch.tensor([1] + sp.encode(str(row[\"Turkish\"]), out_type=int) + [2]) for _, row in data.iterrows()]  # BOS = 1, EOS = 2"
      ]
    },
    {
      "cell_type": "code",
      "execution_count": 61,
      "metadata": {
        "id": "XtjOEYvZVSSz"
      },
      "outputs": [],
      "source": [
        "src = pad_sequence(src_encoded, batch_first=True, padding_value=0)\n",
        "tgt = pad_sequence(tgt_encoded, batch_first=True, padding_value=0)"
      ]
    },
    {
      "cell_type": "code",
      "execution_count": 62,
      "metadata": {
        "id": "aqNlpSpss13D"
      },
      "outputs": [],
      "source": [
        "src = src.to(device)\n",
        "tgt = tgt.to(device)"
      ]
    },
    {
      "cell_type": "code",
      "execution_count": 63,
      "metadata": {
        "colab": {
          "base_uri": "https://localhost:8080/"
        },
        "id": "DV0bsHV0gF_O",
        "outputId": "310fecb2-a05f-476d-83ad-cb3009fdc0b9"
      },
      "outputs": [
        {
          "output_type": "execute_result",
          "data": {
            "text/plain": [
              "356"
            ]
          },
          "metadata": {},
          "execution_count": 63
        }
      ],
      "source": [
        "tgt.shape[1]"
      ]
    },
    {
      "cell_type": "code",
      "execution_count": 64,
      "metadata": {
        "colab": {
          "base_uri": "https://localhost:8080/"
        },
        "id": "qu73zE-_lTQF",
        "outputId": "1b2c7973-9c15-4f1b-fd6a-f407e7cdd284"
      },
      "outputs": [
        {
          "output_type": "execute_result",
          "data": {
            "text/plain": [
              "378"
            ]
          },
          "metadata": {},
          "execution_count": 64
        }
      ],
      "source": [
        "src.shape[1]"
      ]
    },
    {
      "cell_type": "code",
      "execution_count": 65,
      "metadata": {
        "id": "luW0qCg2fF0X"
      },
      "outputs": [],
      "source": [
        "max_seq_len = (max(src.shape[1],tgt.shape[1]))"
      ]
    },
    {
      "cell_type": "code",
      "execution_count": 66,
      "metadata": {
        "colab": {
          "base_uri": "https://localhost:8080/"
        },
        "id": "zEaHxRs6Xdf1",
        "outputId": "aa45e026-c2cf-4a7e-ff1f-b71c7f2dda87"
      },
      "outputs": [
        {
          "output_type": "execute_result",
          "data": {
            "text/plain": [
              "torch.Size([106425, 378])"
            ]
          },
          "metadata": {},
          "execution_count": 66
        }
      ],
      "source": [
        "src.shape"
      ]
    },
    {
      "cell_type": "code",
      "execution_count": 15,
      "metadata": {
        "id": "j0_53q3jlSTA"
      },
      "outputs": [],
      "source": [
        "class Config():\n",
        "    # Global hyperparameters\n",
        "    d_model = 128\n",
        "    n_layer = 4\n",
        "    num_heads = 4\n",
        "    head_size = d_model // num_heads\n",
        "    dropout = 0.1\n",
        "    vocab_size = 16000\n",
        "    max_seq_len = 512\n",
        "    batch_size = 32\n",
        "    warmup_steps = 4000\n"
      ]
    },
    {
      "cell_type": "code",
      "execution_count": 16,
      "metadata": {
        "id": "FLDuoK3r2NRB"
      },
      "outputs": [],
      "source": [
        "class TranslationDataset(Dataset):\n",
        "    def __init__(self, src, tgt):\n",
        "        self.src = src\n",
        "        self.tgt = tgt\n",
        "\n",
        "    def __len__(self):\n",
        "        return len(self.src)\n",
        "\n",
        "    def __getitem__(self, idx):\n",
        "        return self.src[idx], self.tgt[idx]\n",
        "\n",
        "\n"
      ]
    },
    {
      "cell_type": "code",
      "execution_count": 17,
      "metadata": {
        "id": "OielXC8uaQ05"
      },
      "outputs": [],
      "source": [
        "class Head(nn.Module):\n",
        "\n",
        "    def __init__(self,config):\n",
        "        super().__init__()\n",
        "        self.key = nn.Linear(config.d_model, config.head_size, bias=False)\n",
        "        self.query = nn.Linear(config.d_model, config.head_size, bias=False)\n",
        "        self.value = nn.Linear(config.d_model, config.head_size, bias=False)\n",
        "\n",
        "        self.dropout = nn.Dropout(config.dropout)\n",
        "\n",
        "    def forward(self, query,key,value):\n",
        "        B,T,C = value.shape\n",
        "        k = self.key(key)   # (B,T,C)\n",
        "        q = self.query(query) # (B,T,C)\n",
        "        wei = q @ k.transpose(-2,-1) * C**-0.5 # (B, T, C) @ (B, C, T) -> (B, T, T)\n",
        "        wei = F.softmax(wei, dim=-1) # (B, T, T)\n",
        "        wei = self.dropout(wei)\n",
        "        v = self.value(value) # (B,T,C)\n",
        "        out = wei @ v # (B, T, T) @ (B, T, C) -> (B, T, C)\n",
        "        return out\n",
        "\n"
      ]
    },
    {
      "cell_type": "code",
      "execution_count": 18,
      "metadata": {
        "id": "94cKR3cDaukj"
      },
      "outputs": [],
      "source": [
        "class MultiHeadAttention(nn.Module):\n",
        "\n",
        "    def __init__(self,config):\n",
        "        super().__init__()\n",
        "        self.heads = nn.ModuleList([ Head(config) for _ in range(config.num_heads)])\n",
        "        # Input dimension should be num_heads * head_size, output dimension should be d_model\n",
        "        self.proj = nn.Linear(config.num_heads * config.head_size, config.d_model)\n",
        "        self.dropout = nn.Dropout(config.dropout)\n",
        "\n",
        "    def forward(self,query,key,value):\n",
        "        # out shape will be (B, T, num_heads * head_size)\n",
        "        out = torch.cat([h(query,key,value) for h in self.heads], dim=-1)\n",
        "        # Project to d_model dimension\n",
        "        out = self.dropout(self.proj(out))\n",
        "        return out"
      ]
    },
    {
      "cell_type": "code",
      "execution_count": 19,
      "metadata": {
        "id": "1Rp-z6vvawCQ"
      },
      "outputs": [],
      "source": [
        "class FeedFoward(nn.Module):\n",
        "    def __init__(self,config):\n",
        "        super().__init__()\n",
        "        self.net = nn.Sequential(\n",
        "            nn.Linear(config.d_model, 4 * config.d_model),\n",
        "            nn.ReLU(),\n",
        "            nn.Linear(4 * config.d_model, config.d_model),\n",
        "            nn.Dropout(config.dropout),\n",
        "        )\n",
        "\n",
        "    def forward(self, x):\n",
        "        return self.net(x)\n"
      ]
    },
    {
      "cell_type": "code",
      "execution_count": 20,
      "metadata": {
        "id": "2RNVGcOSdVCz"
      },
      "outputs": [],
      "source": [
        "class Block(nn.Module):\n",
        "    \"\"\" Transformer block: communication followed by computation \"\"\"\n",
        "\n",
        "    def __init__(self,config):\n",
        "        # n_embd: embedding dimension, n_head: the number of heads we'd like\n",
        "        super().__init__()\n",
        "        self.sa = MultiHeadAttention(config)\n",
        "        self.ffwd = FeedFoward(config)\n",
        "        self.ln1 = nn.LayerNorm(config.d_model)\n",
        "        self.ln2 = nn.LayerNorm(config.d_model)\n",
        "\n",
        "    def forward(self, query,key,value):\n",
        "        x = query\n",
        "        x = x + self.ln1(self.sa(query,key,value))\n",
        "        x = x + self.ln2(self.ffwd(x))\n",
        "        return x"
      ]
    },
    {
      "cell_type": "code",
      "execution_count": 21,
      "metadata": {
        "id": "ccpLu5i9tRMt"
      },
      "outputs": [],
      "source": [
        "class SinusoidalPositionalEncoding(nn.Module):\n",
        "    def __init__(self, dim, max_len=5000):\n",
        "        super().__init__()\n",
        "        pe = torch.zeros(max_len, dim)\n",
        "        position = torch.arange(0, max_len).unsqueeze(1)\n",
        "        # Convert 10000.0 to a tensor\n",
        "        div_term = torch.exp(torch.arange(0, dim, 2) * (-torch.log(torch.tensor(10000.0)) / dim))\n",
        "\n",
        "        pe[:, 0::2] = torch.sin(position * div_term)   # Even indices\n",
        "        pe[:, 1::2] = torch.cos(position * div_term)   # Odd indices\n",
        "        pe = pe.unsqueeze(0)  # (1, max_len, dim)\n",
        "        self.register_buffer('pe', pe)  # ensures it's on correct device and not updated during training\n",
        "\n",
        "    def forward(self, x):\n",
        "        \"\"\"\n",
        "        x: Tensor of shape (batch_size, seq_len, dim)\n",
        "        \"\"\"\n",
        "        seq_len = x.size(1)\n",
        "        return self.pe[:, :seq_len]"
      ]
    },
    {
      "cell_type": "code",
      "execution_count": 22,
      "metadata": {
        "id": "b-SVMeHwbido"
      },
      "outputs": [],
      "source": [
        "class encoder(nn.Module):\n",
        "    def __init__(self,config):\n",
        "        super().__init__()\n",
        "        self.token_embedding_table = nn.Embedding(config.vocab_size, config.d_model, padding_idx=0)\n",
        "        self.position_embedding_table = SinusoidalPositionalEncoding(config.d_model, config.max_seq_len)\n",
        "        self.blocks = nn.ModuleList([Block(config) for _ in range(config.n_layer)]) # Use ModuleList instead of Sequential\n",
        "        self.ln_f = nn.LayerNorm(config.d_model)\n",
        "\n",
        "    def forward(self, idx):\n",
        "        B, T = idx.shape\n",
        "        tok_emb = self.token_embedding_table(idx) # (B, T, d_model)\n",
        "        pos_emb = self.position_embedding_table(tok_emb) # Get positional embeddings based on token embedding shape\n",
        "        x = tok_emb + pos_emb\n",
        "\n",
        "        # Manually pass query, key, value through each block\n",
        "        for block in self.blocks:\n",
        "            x = block(x, x, x) # Self-attention in encoder\n",
        "\n",
        "        x = self.ln_f(x)\n",
        "        return x"
      ]
    },
    {
      "cell_type": "code",
      "execution_count": 23,
      "metadata": {
        "id": "IeHSFhsYdzY2"
      },
      "outputs": [],
      "source": [
        "class decoder(nn.Module):\n",
        "    def __init__(self,config):\n",
        "        super().__init__()\n",
        "        self.token_embedding_table = nn.Embedding(config.vocab_size, config.d_model, padding_idx=0)\n",
        "        self.position_embedding_table = SinusoidalPositionalEncoding(config.d_model, config.max_seq_len)\n",
        "        self.blocks = nn.ModuleList([Block(config) for _ in range(config.n_layer)]) # Use ModuleList instead of Sequential\n",
        "        self.ln_f = nn.LayerNorm(config.d_model)\n",
        "        self.lm_head = nn.Linear(config.d_model, config.vocab_size)\n",
        "\n",
        "    def forward(self, idx, encoder_output=None):\n",
        "        B, T = idx.shape\n",
        "        tok_emb = self.token_embedding_table(idx) # (B, T, d_model)\n",
        "        pos_emb = self.position_embedding_table(tok_emb) # Get positional embeddings based on token embedding shape\n",
        "        x = tok_emb + pos_emb\n",
        "\n",
        "        # Manually pass query, key, value through each block\n",
        "        if encoder_output is not None:\n",
        "            for block in self.blocks:\n",
        "                # Assuming first attention is self-attention, second is cross-attention if encoder_output is provided\n",
        "                # This structure of Block might need refinement based on standard Transformer architecture\n",
        "                # For simplicity, passing appropriate K, V here based on typical decoder block\n",
        "                 x = block(x, encoder_output, encoder_output) # Cross-attention in decoder\n",
        "\n",
        "        else:\n",
        "            for block in self.blocks:\n",
        "                 x = block(x, x, x) # Self-attention in decoder (e.g., if no encoder output)\n",
        "\n",
        "\n",
        "        x = self.ln_f(x)\n",
        "        logits = self.lm_head(x)\n",
        "        return logits"
      ]
    },
    {
      "cell_type": "code",
      "execution_count": 24,
      "metadata": {
        "id": "jeKloaBvmnto"
      },
      "outputs": [],
      "source": [
        "class Transformer(nn.Module):\n",
        "    def __init__(self,config):\n",
        "        super().__init__()\n",
        "        self.encoder = encoder(config)\n",
        "        self.decoder = decoder(config)\n",
        "        self.block_size = config.max_seq_len # Added block_size attribute from config\n",
        "\n",
        "    def forward(self, src, tgt):\n",
        "        enc_output = self.encoder(src)\n",
        "        logits = self.decoder(tgt, enc_output)  # (B, tgt_len, vocab_size)\n",
        "        return logits\n",
        "\n",
        "    def translate(self, src, max_new_tokens=50, start_token_id=1):\n",
        "\n",
        "      B = src.size(0)\n",
        "      tgt = torch.full((B, 1), start_token_id, dtype=torch.long).to(src.device)  # initial token (e.g. <BOS>)\n",
        "\n",
        "      # Encode once\n",
        "      enc_output = self.encoder(src)\n",
        "\n",
        "      for _ in range(max_new_tokens):\n",
        "          # Ensure tgt_cond is on the same device as enc_output and get positional embeddings\n",
        "          tgt_cond = tgt[:, -self.block_size:].to(src.device)  # (B, T) cropped decoder input\n",
        "          # Correctly pass tgt_cond to decoder for positional embedding calculation\n",
        "          dec_output = self.decoder(tgt_cond, enc_output)\n",
        "          logits = dec_output[:, -1, :]         # take last token only: (B, vocab_size)\n",
        "          probs = F.softmax(logits, dim=-1)     # (B, vocab_size)\n",
        "          idx_next = torch.multinomial(probs, num_samples=1)  # (B, 1)\n",
        "          tgt = torch.cat((tgt, idx_next.to(tgt.device)), dim=1)  # append next token\n",
        "\n",
        "      return tgt[:, 1:]  # remove start_token"
      ]
    },
    {
      "cell_type": "code",
      "execution_count": null,
      "metadata": {
        "id": "M-eBsXCJ_H9h"
      },
      "outputs": [],
      "source": [
        "model = Transformer(Config())"
      ]
    },
    {
      "cell_type": "code",
      "execution_count": 26,
      "metadata": {
        "id": "d5MlGtN0XVl1"
      },
      "outputs": [],
      "source": [
        "model = model.to(device)"
      ]
    },
    {
      "cell_type": "code",
      "execution_count": 27,
      "metadata": {
        "id": "McOQMoUd3MR9"
      },
      "outputs": [],
      "source": [
        "model = torch.compile(model)"
      ]
    },
    {
      "cell_type": "code",
      "execution_count": 28,
      "metadata": {
        "id": "8xX-x57G_GgT"
      },
      "outputs": [],
      "source": [
        "loss_fn = nn.CrossEntropyLoss(ignore_index=0)"
      ]
    },
    {
      "cell_type": "code",
      "execution_count": 67,
      "metadata": {
        "id": "IJEZeiCZSEK4"
      },
      "outputs": [],
      "source": [
        "from sklearn.model_selection import train_test_split"
      ]
    },
    {
      "cell_type": "code",
      "source": [],
      "metadata": {
        "id": "Y1Q2Ofs-PoOQ"
      },
      "execution_count": 67,
      "outputs": []
    },
    {
      "cell_type": "code",
      "execution_count": 68,
      "metadata": {
        "id": "NmV8XWvFSHok"
      },
      "outputs": [],
      "source": [
        "test_src , testx , test_tgt , testy = train_test_split(src,tgt,test_size=0.2,random_state=42)"
      ]
    },
    {
      "cell_type": "code",
      "execution_count": 69,
      "metadata": {
        "colab": {
          "base_uri": "https://localhost:8080/"
        },
        "id": "hBRJeIO_0mCv",
        "outputId": "9e4161e6-0372-4d26-cd74-e5a6b5bd4f25"
      },
      "outputs": [
        {
          "output_type": "execute_result",
          "data": {
            "text/plain": [
              "device(type='cuda')"
            ]
          },
          "metadata": {},
          "execution_count": 69
        }
      ],
      "source": [
        "device"
      ]
    },
    {
      "cell_type": "code",
      "execution_count": 70,
      "metadata": {
        "colab": {
          "base_uri": "https://localhost:8080/"
        },
        "id": "r7SrbJVQr2Zx",
        "outputId": "5d691ea2-85dd-401a-e8c2-7dad4ffdd110"
      },
      "outputs": [
        {
          "output_type": "execute_result",
          "data": {
            "text/plain": [
              "torch.Size([85140, 378])"
            ]
          },
          "metadata": {},
          "execution_count": 70
        }
      ],
      "source": [
        "test_src.shape"
      ]
    },
    {
      "cell_type": "code",
      "execution_count": 71,
      "metadata": {
        "id": "XJ10uU8QA0pF"
      },
      "outputs": [],
      "source": [
        "dataset = TranslationDataset(test_src, test_tgt)"
      ]
    },
    {
      "cell_type": "code",
      "execution_count": 72,
      "metadata": {
        "id": "LiIWZRxBAw6V"
      },
      "outputs": [],
      "source": [
        "train_loader = DataLoader(dataset, batch_size=Config().batch_size, shuffle=True)"
      ]
    },
    {
      "cell_type": "code",
      "execution_count": 73,
      "metadata": {
        "id": "m3y4XNpus6ZF"
      },
      "outputs": [],
      "source": [
        "torch.set_float32_matmul_precision('high')"
      ]
    },
    {
      "cell_type": "code",
      "execution_count": 74,
      "metadata": {
        "id": "SmnfCEcLE5wf"
      },
      "outputs": [],
      "source": [
        "from torch.optim.lr_scheduler import LambdaLR"
      ]
    },
    {
      "cell_type": "code",
      "execution_count": 75,
      "metadata": {
        "id": "a7QIY9cEEwL7"
      },
      "outputs": [],
      "source": [
        "optimizer = torch.optim.AdamW(model.parameters(), lr=0.000231,betas=(0.9, 0.98), eps=1e-9)\n",
        "# Noam learning rate schedule\n",
        "def get_transformer_lr_lambda(warmup_steps, d_model):\n",
        "    def lr_lambda(step):\n",
        "        step = max(1, step)\n",
        "        return (d_model ** -0.5) * min(step ** -0.5, step * (warmup_steps ** -1.5))\n",
        "    return lr_lambda\n",
        "\n",
        "scheduler = LambdaLR(optimizer, lr_lambda=get_transformer_lr_lambda(Config().warmup_steps, Config().d_model))"
      ]
    },
    {
      "cell_type": "code",
      "execution_count": 76,
      "metadata": {
        "colab": {
          "base_uri": "https://localhost:8080/"
        },
        "id": "ERh1xAbi7lrc",
        "outputId": "97e11c03-8343-4b3e-cd76-3f468f504a8d"
      },
      "outputs": [
        {
          "output_type": "stream",
          "name": "stderr",
          "text": [
            "Epoch 1/3: 100%|██████████| 2661/2661 [08:12<00:00,  5.40it/s, loss=1.42, lr=2.15e-7]\n"
          ]
        },
        {
          "output_type": "stream",
          "name": "stdout",
          "text": [
            "Epoch 1 average loss: 2.1161\n"
          ]
        },
        {
          "output_type": "stream",
          "name": "stderr",
          "text": [
            "Epoch 2/3: 100%|██████████| 2661/2661 [07:09<00:00,  6.19it/s, loss=1.82, lr=2.8e-7]\n"
          ]
        },
        {
          "output_type": "stream",
          "name": "stdout",
          "text": [
            "Epoch 2 average loss: 2.1082\n"
          ]
        },
        {
          "output_type": "stream",
          "name": "stderr",
          "text": [
            "Epoch 3/3: 100%|██████████| 2661/2661 [07:09<00:00,  6.20it/s, loss=2.2, lr=2.29e-7]"
          ]
        },
        {
          "output_type": "stream",
          "name": "stdout",
          "text": [
            "Epoch 3 average loss: 2.0965\n"
          ]
        },
        {
          "output_type": "stream",
          "name": "stderr",
          "text": [
            "\n"
          ]
        }
      ],
      "source": [
        "# Training loop\n",
        "num_epochs = 3\n",
        "for epoch in range(num_epochs):\n",
        "    model.train()\n",
        "    total_loss = 0\n",
        "    loop = tqdm.tqdm(train_loader, desc=f\"Epoch {epoch+1}/{num_epochs}\")\n",
        "\n",
        "    for src1, tgt1 in loop:\n",
        "        src1, tgt1 = src1.to(device), tgt1.to(device)\n",
        "        tgt_input = tgt1[:, :-1]\n",
        "        tgt_target = tgt1[:, 1:]\n",
        "\n",
        "        output = model(src1, tgt_input)  # (B, T, vocab_size)\n",
        "        output = output.view(-1, Config().vocab_size)\n",
        "        tgt_target = tgt_target.reshape(-1)\n",
        "\n",
        "        loss = loss_fn(output, tgt_target)\n",
        "\n",
        "        optimizer.zero_grad()\n",
        "        loss.backward()\n",
        "        torch.nn.utils.clip_grad_norm_(model.parameters(), 1.0)\n",
        "        optimizer.step()\n",
        "        scheduler.step()  # <-- update learning rate every step\n",
        "\n",
        "        total_loss += loss.item()\n",
        "        loop.set_postfix(loss=loss.item(), lr=scheduler.get_last_lr()[0])\n",
        "\n",
        "    avg_loss = total_loss / len(train_loader)\n",
        "    print(f\"Epoch {epoch+1} average loss: {avg_loss:.4f}\")"
      ]
    },
    {
      "cell_type": "code",
      "execution_count": null,
      "metadata": {
        "id": "vWV3rU1SRnW5"
      },
      "outputs": [],
      "source": [
        "torch.save(model.state_dict(), \"model11.pth\")"
      ]
    },
    {
      "cell_type": "code",
      "execution_count": null,
      "metadata": {
        "id": "84t1CRSncrcl"
      },
      "outputs": [],
      "source": [
        "torch.save(model,\"model.pt\")"
      ]
    },
    {
      "cell_type": "code",
      "execution_count": null,
      "metadata": {
        "id": "KMP3_aFKZ8y4"
      },
      "outputs": [],
      "source": []
    },
    {
      "cell_type": "code",
      "execution_count": null,
      "metadata": {
        "id": "QnF4ZmbBK4NG"
      },
      "outputs": [],
      "source": [
        "model"
      ]
    },
    {
      "cell_type": "code",
      "execution_count": 78,
      "metadata": {
        "id": "8McwgchRPzIu"
      },
      "outputs": [],
      "source": [
        "def top_k_filtering(logits, k=10):\n",
        "    \"\"\"\n",
        "    Keep only top-k logits (set rest to -inf for zero probability).\n",
        "    \"\"\"\n",
        "    values, indices = torch.topk(logits, k)\n",
        "    filtered_logits = torch.full_like(logits, float('-inf'))\n",
        "    filtered_logits.scatter_(1, indices, values)\n",
        "    return filtered_logits\n",
        "\n",
        "def translate_sentence(\n",
        "    sentence, model, tokenizer=sp, max_len=50, bos=1, eos=2, k=10, temperature=1.0\n",
        "):\n",
        "    model.eval()\n",
        "\n",
        "    # Encode input sentence\n",
        "    src_ids = tokenizer.encode(sentence, out_type=int)\n",
        "    src_tensor = torch.tensor(src_ids, dtype=torch.long).unsqueeze(0).to(device)\n",
        "\n",
        "    # Start decoder with BOS token\n",
        "    tgt_ids = torch.tensor([[bos]], dtype=torch.long).to(device)\n",
        "\n",
        "    for _ in range(max_len):\n",
        "        with torch.no_grad():\n",
        "            output = model(src_tensor, tgt_ids)            # (1, T, vocab_size)\n",
        "            logits = output[:, -1, :] / temperature        # last token only, scale\n",
        "\n",
        "            filtered_logits = top_k_filtering(logits, k=k) # apply top-k\n",
        "            probs = F.softmax(filtered_logits, dim=-1)\n",
        "            next_token = torch.multinomial(probs, num_samples=1)\n",
        "\n",
        "        tgt_ids = torch.cat([tgt_ids, next_token], dim=1)\n",
        "\n",
        "        if next_token.item() == eos:\n",
        "            break\n",
        "\n",
        "    # Decode output, skip BOS and EOS\n",
        "    output_ids = tgt_ids.squeeze(0).tolist()\n",
        "    decoded = tokenizer.decode(output_ids[1:-1])\n",
        "\n",
        "    return decoded.strip()\n"
      ]
    },
    {
      "cell_type": "code",
      "execution_count": 79,
      "metadata": {
        "colab": {
          "base_uri": "https://localhost:8080/"
        },
        "id": "mR363hIqRV72",
        "outputId": "d67d3bf2-2b6f-4a0f-da09-eb53939f27a4"
      },
      "outputs": [
        {
          "output_type": "stream",
          "name": "stdout",
          "text": [
            "EN: Hello, how are you?\n",
            "→  Merhaba, ne zaman nasıl sen da sen ne senin.\n",
            "------------------------------\n",
            "EN: Where is the airport?\n",
            "→  Numlar ve durağa, yer.\n",
            "------------------------------\n",
            "EN: I love cats and dogs.\n",
            "→  Kediler ve köpek ve köpek ve köpek ve köpek kardeş ve köpek.\n",
            "------------------------------\n",
            "EN: The weather is nice today.\n",
            "→  Şuik, pki.\n",
            "------------------------------\n",
            "EN: Can you help me please?\n",
            "→  Lütfen bana beni lütfen lütfen lütfen lütfen.\n",
            "------------------------------\n"
          ]
        }
      ],
      "source": [
        "# torch.manual_seed(12)\n",
        "examples = [\n",
        "    \"Hello, how are you?\",\n",
        "    \"Where is the airport?\",\n",
        "    \"I love cats and dogs.\",\n",
        "\n",
        "    \"The weather is nice today.\",\n",
        "    \"Can you help me please?\"\n",
        "]\n",
        "\n",
        "for en in examples:\n",
        "    tr = translate_sentence(en, model, k=10,temperature=0.7)\n",
        "    print(f\"EN: {en}\")\n",
        "    print(f\"→  {tr}\")\n",
        "    print(\"-\" * 30)\n"
      ]
    },
    {
      "cell_type": "code",
      "execution_count": 25,
      "metadata": {
        "id": "2NagKXAPK4NG"
      },
      "outputs": [],
      "source": [
        "# Load the state dict\n",
        "state_dict = torch.load(\"new_model1.pth\")\n",
        "\n",
        "# Remove the '_orig_mod.' prefix from all keys\n",
        "from collections import OrderedDict\n",
        "new_state_dict = OrderedDict()\n",
        "for k, v in state_dict.items():\n",
        "    name = k.replace(\"_orig_mod.\", \"\")  # remove prefix\n",
        "    new_state_dict[name] = v\n",
        "\n",
        "# Load into model\n",
        "model = Transformer(Config())\n",
        "model.load_state_dict(new_state_dict)\n",
        "model = model.to(device)"
      ]
    },
    {
      "cell_type": "code",
      "execution_count": null,
      "metadata": {
        "id": "Z9hVF8nGK4NG"
      },
      "outputs": [],
      "source": []
    }
  ],
  "metadata": {
    "accelerator": "GPU",
    "colab": {
      "gpuType": "T4",
      "provenance": [],
      "include_colab_link": true
    },
    "kernelspec": {
      "display_name": "Python 3 (ipykernel)",
      "language": "python",
      "name": "python3"
    },
    "language_info": {
      "codemirror_mode": {
        "name": "ipython",
        "version": 3
      },
      "file_extension": ".py",
      "mimetype": "text/x-python",
      "name": "python",
      "nbconvert_exporter": "python",
      "pygments_lexer": "ipython3",
      "version": "3.10.12"
    }
  },
  "nbformat": 4,
  "nbformat_minor": 0
}